{
 "cells": [
  {
   "cell_type": "code",
   "execution_count": 1,
   "metadata": {},
   "outputs": [
    {
     "name": "stdout",
     "output_type": "stream",
     "text": [
      "Populating the interactive namespace from numpy and matplotlib\n"
     ]
    }
   ],
   "source": [
    "%pylab inline\n",
    "#plt.style.use('_background')\n",
    "#pylab.rcParams['figure.figsize'] = (10.0, 6.0)"
   ]
  },
  {
   "cell_type": "code",
   "execution_count": 2,
   "metadata": {},
   "outputs": [],
   "source": [
    "# Plotting functions\n",
    "# Plotting\n",
    "def plot_points():\n",
    "    plot(X,Y, '--')\n",
    "    plot(X,Y, 'o')\n",
    "    quiver(X,Y, Vx, Vy, color='r')"
   ]
  },
  {
   "cell_type": "code",
   "execution_count": 3,
   "metadata": {},
   "outputs": [],
   "source": [
    "##### Requirements for the trajectory\n",
    "# Waypoints\n",
    "p1 = [-5,-7]\n",
    "p2 = [10,-7]\n",
    "p3 = [10,-2]\n",
    "p4 = [3,-2]\n",
    "p5 = [3,1]\n",
    "p6 = [3,6]\n",
    "p7 = [0,6]\n",
    "p8 = [0,1]\n",
    "p9 = [3,1]\n",
    "p10 = [3,10]\n",
    "p11 = [9,10]\n",
    "\n",
    "# Velocities\n",
    "# v1 = [0,-0.001]\n",
    "# v2 = [0,1]\n",
    "# v3 = [1,0]\n",
    "# v4 = [-1,1]\n",
    "# v5 = [0,-0.001]\n",
    "# v6 = [0,-0.001]\n",
    "# v7 = [-1,1]\n",
    "# v8 = [1,0]\n",
    "# v9 = [-1,1]\n",
    "# v010 = [0,-0.001]\n",
    "\n",
    "\n",
    "v1 = [0,-0.001]\n",
    "v2 = [0,1]\n",
    "v3 = [-1,0]\n",
    "v4 = [0,1]\n",
    "v5 = [0,1]\n",
    "v6 = [-1,0]\n",
    "v7 = [0,-1]\n",
    "v8 = [1,0]\n",
    "v9 = [0,1]\n",
    "v10 = [1,0]\n",
    "v11 =[0,-0.001]\n",
    "\n",
    "\n",
    "# Time\n",
    "t1 = 0\n",
    "t2 = 12\n",
    "t3 = 22\n",
    "t4 = 32\n",
    "t5 = 42\n",
    "t6 = 52\n",
    "t7 = 62\n",
    "t8 = 72\n",
    "t9= 82\n",
    "t10 = 92\n",
    "t11 = 102"
   ]
  },
  {
   "cell_type": "code",
   "execution_count": 4,
   "metadata": {
    "scrolled": true
   },
   "outputs": [
    {
     "data": {
      "image/png": "[encoded data removed]",
      "text/plain": [
       "<Figure size 432x288 with 1 Axes>"
      ]
     },
     "metadata": {},
     "output_type": "display_data"
    }
   ],
   "source": [
    "import matplotlib.pyplot as plt\n",
    "fig = plt.figure()\n",
    "ax = fig.add_subplot(111)\n",
    "fig.patch.set_facecolor('white')\n",
    "\n",
    "rect1 = matplotlib.patches.Rectangle((4, -1.0), \n",
    "                                     2, 8, \n",
    "                                     color ='black') \n",
    "  \n",
    "rect2 = matplotlib.patches.Rectangle((0.5, 2.0), \n",
    "                                     2, 3, \n",
    "                                     color ='blue') \n",
    "  \n",
    "rect3 = matplotlib.patches.Rectangle((-6, -5), \n",
    "                                     15, 1, \n",
    "                                     color ='black') \n",
    "\n",
    "rect4 = matplotlib.patches.Rectangle((8, 0), \n",
    "                                     2, 5, \n",
    "                                     color ='black')\n",
    "\n",
    "rect5 = matplotlib.patches.Rectangle((-4, -3), \n",
    "                                     2, 8, \n",
    "                                     color ='black')\n",
    "  \n",
    "ax.add_patch(rect1) \n",
    "ax.add_patch(rect2) \n",
    "ax.add_patch(rect3) \n",
    "ax.add_patch(rect4)\n",
    "ax.add_patch(rect5)\n",
    "\n",
    "plt.xlim([-10, 15]) \n",
    "plt.ylim([-10, 15]) \n",
    "\n",
    "my_x_ticks = np.arange(-10, 15, 2)\n",
    "my_y_ticks = np.arange(-10, 15, 5)\n",
    "plt.xticks(my_x_ticks)\n",
    "plt.yticks(my_y_ticks)\n",
    "\n",
    "\n",
    "# Convert the initial conditions to a vector form\n",
    "P = np.vstack((p1, p2, p3, p4, p5,p6,p7,p8,p9,p10,p11))\n",
    "V = np.vstack((v1, v2, v3, v4, v5,v6,v7,v8,v9,v10,v11))\n",
    "T = [t1, t2, t3, t4, t5,t6,t7,t8,t9,t10,t11]\n",
    "\n",
    "X, Y = P[:,0], P[:,1]\n",
    "Vx, Vy = V[:,0], V[:,1]\n",
    "\n",
    "\n",
    "    \n",
    "plot_points()\n",
    "plt.show()"
   ]
  }
 ],
 "metadata": {
  "kernelspec": {
   "display_name": "Python 3",
   "language": "python",
   "name": "python3"
  },
  "language_info": {
   "codemirror_mode": {
    "name": "ipython",
    "version": 3
   },
   "file_extension": ".py",
   "mimetype": "text/x-python",
   "name": "python",
   "nbconvert_exporter": "python",
   "pygments_lexer": "ipython3",
   "version": "3.7.6"
  }
 },
 "nbformat": 4,
 "nbformat_minor": 4
}
